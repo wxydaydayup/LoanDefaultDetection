{
 "cells": [
  {
   "cell_type": "code",
   "execution_count": 208,
   "id": "a03c3bba",
   "metadata": {
    "ExecuteTime": {
     "end_time": "2022-11-04T11:02:17.302292Z",
     "start_time": "2022-11-04T10:57:37.852503Z"
    },
    "scrolled": true
   },
   "outputs": [
    {
     "name": "stdout",
     "output_type": "stream",
     "text": [
      "0:\ttest: 0.6983260\tbest: 0.6983260 (0)\ttotal: 97.4ms\tremaining: 1m 37s\n",
      "500:\ttest: 0.7355001\tbest: 0.7355001 (500)\ttotal: 44.2s\tremaining: 44.1s\n",
      "Stopped by overfitting detector  (20 iterations wait)\n",
      "\n",
      "bestTest = 0.7359020243\n",
      "bestIteration = 564\n",
      "\n",
      "Shrink model to first 565 iterations.\n",
      "cat验证的auc:0.7359020243129812\n",
      "0:\ttest: 0.6953806\tbest: 0.6953806 (0)\ttotal: 141ms\tremaining: 2m 20s\n",
      "500:\ttest: 0.7388230\tbest: 0.7388230 (500)\ttotal: 44.6s\tremaining: 44.5s\n",
      "Stopped by overfitting detector  (20 iterations wait)\n",
      "\n",
      "bestTest = 0.7405412741\n",
      "bestIteration = 912\n",
      "\n",
      "Shrink model to first 913 iterations.\n",
      "cat验证的auc:0.7405412740510757\n",
      "0:\ttest: 0.6924044\tbest: 0.6924044 (0)\ttotal: 96.3ms\tremaining: 1m 36s\n",
      "500:\ttest: 0.7331256\tbest: 0.7331256 (500)\ttotal: 44.2s\tremaining: 44.1s\n",
      "Stopped by overfitting detector  (20 iterations wait)\n",
      "\n",
      "bestTest = 0.7332054353\n",
      "bestIteration = 531\n",
      "\n",
      "Shrink model to first 532 iterations.\n",
      "cat验证的auc:0.7332054353324311\n",
      "0:\ttest: 0.6948469\tbest: 0.6948469 (0)\ttotal: 114ms\tremaining: 1m 53s\n",
      "500:\ttest: 0.7358564\tbest: 0.7358594 (499)\ttotal: 45s\tremaining: 44.8s\n",
      "Stopped by overfitting detector  (20 iterations wait)\n",
      "\n",
      "bestTest = 0.7367124123\n",
      "bestIteration = 622\n",
      "\n",
      "Shrink model to first 623 iterations.\n",
      "cat验证的auc:0.7367124122806332\n",
      "0:\ttest: 0.6930338\tbest: 0.6930338 (0)\ttotal: 106ms\tremaining: 1m 45s\n"
     ]
    },
    {
     "ename": "KeyboardInterrupt",
     "evalue": "",
     "output_type": "error",
     "traceback": [
      "\u001b[1;31m---------------------------------------------------------------------------\u001b[0m",
      "\u001b[1;31mKeyboardInterrupt\u001b[0m                         Traceback (most recent call last)",
      "\u001b[1;32m<ipython-input-208-06e823b0a9c9>\u001b[0m in \u001b[0;36m<module>\u001b[1;34m\u001b[0m\n\u001b[0;32m     23\u001b[0m     \u001b[0mx_test\u001b[0m \u001b[1;33m=\u001b[0m \u001b[0mdata_x\u001b[0m\u001b[1;33m.\u001b[0m\u001b[0miloc\u001b[0m\u001b[1;33m[\u001b[0m\u001b[0mtest\u001b[0m\u001b[1;33m]\u001b[0m\u001b[1;33m\u001b[0m\u001b[1;33m\u001b[0m\u001b[0m\n\u001b[0;32m     24\u001b[0m     \u001b[0my_test\u001b[0m \u001b[1;33m=\u001b[0m \u001b[0mdata_y\u001b[0m\u001b[1;33m.\u001b[0m\u001b[0miloc\u001b[0m\u001b[1;33m[\u001b[0m\u001b[0mtest\u001b[0m\u001b[1;33m]\u001b[0m\u001b[1;33m\u001b[0m\u001b[1;33m\u001b[0m\u001b[0m\n\u001b[1;32m---> 25\u001b[1;33m     \u001b[0mclf\u001b[0m \u001b[1;33m=\u001b[0m \u001b[0mmodel\u001b[0m\u001b[1;33m.\u001b[0m\u001b[0mfit\u001b[0m\u001b[1;33m(\u001b[0m\u001b[0mx_train\u001b[0m\u001b[1;33m,\u001b[0m\u001b[0my_train\u001b[0m\u001b[1;33m,\u001b[0m \u001b[0meval_set\u001b[0m\u001b[1;33m=\u001b[0m\u001b[1;33m(\u001b[0m\u001b[0mx_test\u001b[0m\u001b[1;33m,\u001b[0m\u001b[0my_test\u001b[0m\u001b[1;33m)\u001b[0m\u001b[1;33m,\u001b[0m\u001b[0mverbose\u001b[0m\u001b[1;33m=\u001b[0m\u001b[1;36m500\u001b[0m\u001b[1;33m)\u001b[0m \u001b[1;31m# 500条打印一条日志\u001b[0m\u001b[1;33m\u001b[0m\u001b[1;33m\u001b[0m\u001b[0m\n\u001b[0m\u001b[0;32m     26\u001b[0m \u001b[1;33m\u001b[0m\u001b[0m\n\u001b[0;32m     27\u001b[0m     \u001b[0myy_pred_valid\u001b[0m\u001b[1;33m=\u001b[0m\u001b[0mclf\u001b[0m\u001b[1;33m.\u001b[0m\u001b[0mpredict\u001b[0m\u001b[1;33m(\u001b[0m\u001b[0mx_test\u001b[0m\u001b[1;33m,\u001b[0m\u001b[0mprediction_type\u001b[0m\u001b[1;33m=\u001b[0m\u001b[1;34m'Probability'\u001b[0m\u001b[1;33m)\u001b[0m\u001b[1;33m[\u001b[0m\u001b[1;33m:\u001b[0m\u001b[1;33m,\u001b[0m\u001b[1;33m-\u001b[0m\u001b[1;36m1\u001b[0m\u001b[1;33m]\u001b[0m\u001b[1;33m\u001b[0m\u001b[1;33m\u001b[0m\u001b[0m\n",
      "\u001b[1;32mG:\\anaconda\\lib\\site-packages\\catboost\\core.py\u001b[0m in \u001b[0;36mfit\u001b[1;34m(self, X, y, cat_features, text_features, embedding_features, sample_weight, baseline, use_best_model, eval_set, verbose, logging_level, plot, plot_file, column_description, verbose_eval, metric_period, silent, early_stopping_rounds, save_snapshot, snapshot_file, snapshot_interval, init_model, callbacks, log_cout, log_cerr)\u001b[0m\n\u001b[0;32m   5126\u001b[0m             \u001b[0mCatBoostClassifier\u001b[0m\u001b[1;33m.\u001b[0m\u001b[0m_check_is_compatible_loss\u001b[0m\u001b[1;33m(\u001b[0m\u001b[0mparams\u001b[0m\u001b[1;33m[\u001b[0m\u001b[1;34m'loss_function'\u001b[0m\u001b[1;33m]\u001b[0m\u001b[1;33m)\u001b[0m\u001b[1;33m\u001b[0m\u001b[1;33m\u001b[0m\u001b[0m\n\u001b[0;32m   5127\u001b[0m \u001b[1;33m\u001b[0m\u001b[0m\n\u001b[1;32m-> 5128\u001b[1;33m         self._fit(X, y, cat_features, text_features, embedding_features, None, sample_weight, None, None, None, None, baseline, use_best_model,\n\u001b[0m\u001b[0;32m   5129\u001b[0m                   \u001b[0meval_set\u001b[0m\u001b[1;33m,\u001b[0m \u001b[0mverbose\u001b[0m\u001b[1;33m,\u001b[0m \u001b[0mlogging_level\u001b[0m\u001b[1;33m,\u001b[0m \u001b[0mplot\u001b[0m\u001b[1;33m,\u001b[0m \u001b[0mplot_file\u001b[0m\u001b[1;33m,\u001b[0m \u001b[0mcolumn_description\u001b[0m\u001b[1;33m,\u001b[0m \u001b[0mverbose_eval\u001b[0m\u001b[1;33m,\u001b[0m \u001b[0mmetric_period\u001b[0m\u001b[1;33m,\u001b[0m\u001b[1;33m\u001b[0m\u001b[1;33m\u001b[0m\u001b[0m\n\u001b[0;32m   5130\u001b[0m                   silent, early_stopping_rounds, save_snapshot, snapshot_file, snapshot_interval, init_model, callbacks, log_cout, log_cerr)\n",
      "\u001b[1;32mG:\\anaconda\\lib\\site-packages\\catboost\\core.py\u001b[0m in \u001b[0;36m_fit\u001b[1;34m(self, X, y, cat_features, text_features, embedding_features, pairs, sample_weight, group_id, group_weight, subgroup_id, pairs_weight, baseline, use_best_model, eval_set, verbose, logging_level, plot, plot_file, column_description, verbose_eval, metric_period, silent, early_stopping_rounds, save_snapshot, snapshot_file, snapshot_interval, init_model, callbacks, log_cout, log_cerr)\u001b[0m\n\u001b[0;32m   2353\u001b[0m         \u001b[1;32mwith\u001b[0m \u001b[0mlog_fixup\u001b[0m\u001b[1;33m(\u001b[0m\u001b[0mlog_cout\u001b[0m\u001b[1;33m,\u001b[0m \u001b[0mlog_cerr\u001b[0m\u001b[1;33m)\u001b[0m\u001b[1;33m,\u001b[0m\u001b[0;31m \u001b[0m\u001b[0;31m\\\u001b[0m\u001b[1;33m\u001b[0m\u001b[1;33m\u001b[0m\u001b[0m\n\u001b[0;32m   2354\u001b[0m             \u001b[0mplot_wrapper\u001b[0m\u001b[1;33m(\u001b[0m\u001b[0mplot\u001b[0m\u001b[1;33m,\u001b[0m \u001b[0mplot_file\u001b[0m\u001b[1;33m,\u001b[0m \u001b[1;34m'Training plots'\u001b[0m\u001b[1;33m,\u001b[0m \u001b[1;33m[\u001b[0m\u001b[0m_get_train_dir\u001b[0m\u001b[1;33m(\u001b[0m\u001b[0mself\u001b[0m\u001b[1;33m.\u001b[0m\u001b[0mget_params\u001b[0m\u001b[1;33m(\u001b[0m\u001b[1;33m)\u001b[0m\u001b[1;33m)\u001b[0m\u001b[1;33m]\u001b[0m\u001b[1;33m)\u001b[0m\u001b[1;33m:\u001b[0m\u001b[1;33m\u001b[0m\u001b[1;33m\u001b[0m\u001b[0m\n\u001b[1;32m-> 2355\u001b[1;33m             self._train(\n\u001b[0m\u001b[0;32m   2356\u001b[0m                 \u001b[0mtrain_pool\u001b[0m\u001b[1;33m,\u001b[0m\u001b[1;33m\u001b[0m\u001b[1;33m\u001b[0m\u001b[0m\n\u001b[0;32m   2357\u001b[0m                 \u001b[0mtrain_params\u001b[0m\u001b[1;33m[\u001b[0m\u001b[1;34m\"eval_sets\"\u001b[0m\u001b[1;33m]\u001b[0m\u001b[1;33m,\u001b[0m\u001b[1;33m\u001b[0m\u001b[1;33m\u001b[0m\u001b[0m\n",
      "\u001b[1;32mG:\\anaconda\\lib\\site-packages\\catboost\\core.py\u001b[0m in \u001b[0;36m_train\u001b[1;34m(self, train_pool, test_pool, params, allow_clear_pool, init_model)\u001b[0m\n\u001b[0;32m   1757\u001b[0m \u001b[1;33m\u001b[0m\u001b[0m\n\u001b[0;32m   1758\u001b[0m     \u001b[1;32mdef\u001b[0m \u001b[0m_train\u001b[0m\u001b[1;33m(\u001b[0m\u001b[0mself\u001b[0m\u001b[1;33m,\u001b[0m \u001b[0mtrain_pool\u001b[0m\u001b[1;33m,\u001b[0m \u001b[0mtest_pool\u001b[0m\u001b[1;33m,\u001b[0m \u001b[0mparams\u001b[0m\u001b[1;33m,\u001b[0m \u001b[0mallow_clear_pool\u001b[0m\u001b[1;33m,\u001b[0m \u001b[0minit_model\u001b[0m\u001b[1;33m)\u001b[0m\u001b[1;33m:\u001b[0m\u001b[1;33m\u001b[0m\u001b[1;33m\u001b[0m\u001b[0m\n\u001b[1;32m-> 1759\u001b[1;33m         \u001b[0mself\u001b[0m\u001b[1;33m.\u001b[0m\u001b[0m_object\u001b[0m\u001b[1;33m.\u001b[0m\u001b[0m_train\u001b[0m\u001b[1;33m(\u001b[0m\u001b[0mtrain_pool\u001b[0m\u001b[1;33m,\u001b[0m \u001b[0mtest_pool\u001b[0m\u001b[1;33m,\u001b[0m \u001b[0mparams\u001b[0m\u001b[1;33m,\u001b[0m \u001b[0mallow_clear_pool\u001b[0m\u001b[1;33m,\u001b[0m \u001b[0minit_model\u001b[0m\u001b[1;33m.\u001b[0m\u001b[0m_object\u001b[0m \u001b[1;32mif\u001b[0m \u001b[0minit_model\u001b[0m \u001b[1;32melse\u001b[0m \u001b[1;32mNone\u001b[0m\u001b[1;33m)\u001b[0m\u001b[1;33m\u001b[0m\u001b[1;33m\u001b[0m\u001b[0m\n\u001b[0m\u001b[0;32m   1760\u001b[0m         \u001b[0mself\u001b[0m\u001b[1;33m.\u001b[0m\u001b[0m_set_trained_model_attributes\u001b[0m\u001b[1;33m(\u001b[0m\u001b[1;33m)\u001b[0m\u001b[1;33m\u001b[0m\u001b[1;33m\u001b[0m\u001b[0m\n\u001b[0;32m   1761\u001b[0m \u001b[1;33m\u001b[0m\u001b[0m\n",
      "\u001b[1;32m_catboost.pyx\u001b[0m in \u001b[0;36m_catboost._CatBoost._train\u001b[1;34m()\u001b[0m\n",
      "\u001b[1;32m_catboost.pyx\u001b[0m in \u001b[0;36m_catboost._CatBoost._train\u001b[1;34m()\u001b[0m\n",
      "\u001b[1;31mKeyboardInterrupt\u001b[0m: "
     ]
    }
   ],
   "source": [
    "import pandas as pd\n",
    "import warnings\n",
    "warnings.filterwarnings('ignore')\n",
    "from sklearn.model_selection import StratifiedKFold\n",
    "from sklearn.metrics import roc_auc_score\n",
    "from catboost import CatBoostClassifier\n",
    " \n",
    "#数据加载\n",
    "train=pd.read_csv(\"./train.csv\")\n",
    "test=pd.read_csv(\"./testA.csv\")\n",
    "\n",
    "features = train.columns.tolist()\n",
    "for feature in features:\n",
    "    if train[feature].nunique() ==1:\n",
    "        train.drop([feature],axis=1,inplace=True)\n",
    "        test.drop([feature],axis=1,inplace=True)\n",
    "print('删除全部唯一值为1字段完成')\n",
    "\n",
    "#将数值类型的缺失值全部以中位数补全\n",
    "numerical_fea = list(train.select_dtypes(exclude=['object']).columns)\n",
    "numerical_fea.remove('isDefault')\n",
    "train[numerical_fea] = train[numerical_fea].fillna(train[numerical_fea].median())\n",
    "test[numerical_fea] = test[numerical_fea].fillna(test[numerical_fea].median())\n",
    "print('数值类型缺失值,中位数填充完成')\n",
    "\n",
    "from scipy import stats \n",
    "cat_fea = list(train.select_dtypes(include=['object']).columns)\n",
    "for cf in cat_fea:\n",
    "    if train[cf].isnull().sum():\n",
    "        train[cf] = train[cf].fillna(stats.mode(train[cf])[0][0])\n",
    "cat_fea = list(test.select_dtypes(include=['object']).columns)\n",
    "for cf in cat_fea:\n",
    "    if test[cf].isnull().sum():\n",
    "        test[cf] = test[cf].fillna(stats.mode(test[cf])[0][0])\n",
    "print('类别类型缺失值,众数填充完成')\n",
    "\n",
    "import datetime\n",
    "def create_days_diff(selected_cols):\n",
    "    for selected in selected_cols:\n",
    "        train[selected] = pd.to_datetime(train[selected])\n",
    "        tmp_str = str(train[selected].min().year)+'-'+str(\"%02d\" % train[selected].min().month)+'-'+str(\"%02d\" % train[selected].min().day)\n",
    "        startdate = datetime.datetime.strptime(tmp_str, '%Y-%m-%d')\n",
    "        train[selected+'_diff'] = train[selected].apply(lambda x: x-startdate).dt.days\n",
    "        \n",
    "        test[selected] = pd.to_datetime(test[selected])\n",
    "        tmp_str = str(test[selected].min().year)+'-'+str(\"%02d\" % test[selected].min().month)+'-'+str(\"%02d\" % test[selected].min().day)\n",
    "        startdate = datetime.datetime.strptime(tmp_str, '%Y-%m-%d')\n",
    "        test[selected+'_diff'] = test[selected].apply(lambda x: x-startdate).dt.days        \n",
    "        print(selected+'_diff'+' 时间差字段 已经创建')\n",
    "def create_ym_features(selected_cols):\n",
    "    for selected in selected_cols:\n",
    "        test[selected] = pd.to_datetime(test[selected])\n",
    "        train_temp = pd.DatetimeIndex(train[selected])\n",
    "        test_temp = pd.DatetimeIndex(test[selected])\n",
    "        \n",
    "        train[selected+'_year'] = train_temp.year\n",
    "        test[selected+'_year'] = test_temp.year\n",
    "        print(selected+'_year'+'字段 已经创建')\n",
    "        \n",
    "        train[selected+'_month'] = train_temp.month\n",
    "        test[selected+'_month'] = test_temp.month\n",
    "        print(selected+'_month'+'字段 已经创建')\n",
    "        \n",
    "selected_cols = ['issueDate','earliesCreditLine']\n",
    "create_ym_features(selected_cols)\n",
    "create_days_diff(selected_cols)\n",
    "\n",
    "for data in [train]:\n",
    "    #贷款等级\n",
    "    data['grade'] = data['grade'].map({'A':1,'B':2,'C':3,'D':4,'E':5,'F':6,'G':7})\n",
    "    #就业年限（年）\n",
    "    data['employmentLength'] = data['employmentLength'].map({'1 year':1,'2 years':2,'3 years':3,'4 years':4,'5 years':5,'6 years':6,'7 years':7,'8 years':8,'9 years':9,'10+ years':10,'< 1 year':0})\n",
    "    #贷款等级之子级\n",
    "    data['subGrade'] = data['subGrade'].map({'E2':1,'D2':2,'D3':3,'A4':4,'C2':5,'A5':6,'C3':7,'B4':8,'B5':9,'E5':10,\n",
    "        'D4':11,'B3':12,'B2':13,'D1':14,'E1':15,'C5':16,'C1':17,'A2':18,'A3':19,'B1':20,\n",
    "        'E3':21,'F1':22,'C4':23,'A1':24,'D5':25,'F2':26,'E4':27,'F3':28,'G2':29,'F5':30,\n",
    "        'G3':31,'G1':32,'F4':33,'G4':34,'G5':35})    \n",
    "    #借款人信用档案中当前的信用额度总数 除以 贷款金额\n",
    "    data['rato']=data['totalAcc']/data['loanAmnt']\n",
    "for data in [test]:\n",
    "    #贷款等级\n",
    "    data['grade'] = data['grade'].map({'A':1,'B':2,'C':3,'D':4,'E':5,'F':6,'G':7})\n",
    "    #就业年限（年）\n",
    "    data['employmentLength'] = data['employmentLength'].map({'1 year':1,'2 years':2,'3 years':3,'4 years':4,'5 years':5,'6 years':6,'7 years':7,'8 years':8,'9 years':9,'10+ years':10,'< 1 year':0})\n",
    "    #贷款等级之子级\n",
    "    data['subGrade'] = data['subGrade'].map({'E2':1,'D2':2,'D3':3,'A4':4,'C2':5,'A5':6,'C3':7,'B4':8,'B5':9,'E5':10,\n",
    "        'D4':11,'B3':12,'B2':13,'D1':14,'E1':15,'C5':16,'C1':17,'A2':18,'A3':19,'B1':20,\n",
    "        'E3':21,'F1':22,'C4':23,'A1':24,'D5':25,'F2':26,'E4':27,'F3':28,'G2':29,'F5':30,\n",
    "        'G3':31,'G1':32,'F4':33,'G4':34,'G5':35})    \n",
    "    #借款人信用档案中当前的信用额度总数 除以 贷款金额\n",
    "    data['rato']=data['totalAcc']/data['loanAmnt']\n",
    "result = test[['id']].copy()\n",
    "features = ['issueDate', 'earliesCreditLine','id'] #自定义删除字段\n",
    "for feature in features:\n",
    "        train.drop([feature],axis=1,inplace=True)\n",
    "        test.drop([feature],axis=1,inplace=True)\n",
    "print('批量删除字段已完成')\n",
    "\n",
    "\n",
    "\n",
    "#CatBoost模型\n",
    "model=model = CatBoostClassifier(\n",
    "    loss_function=\"Logloss\",    # 分类任务常用损失函数\n",
    "    eval_metric=\"Accuracy\",     # 表示用于过度拟合检测和最佳模型选择的度量标准；\n",
    "    learning_rate=0.08,         # 表示学习率\n",
    "    iterations=10000,\n",
    "    random_seed=42,           # 设置随机种子进行固定\n",
    "    od_type=\"Iter\",\n",
    "    metric_period=20,           # 与交叉验证folds数匹配\n",
    "    max_depth = 8,              # 表示树模型最大深度\n",
    "    early_stopping_rounds=500,  # 早停步数\n",
    "    use_best_model=True,\n",
    "    # task_type=\"GPU\",          # 数据量较小，GPU加速效果不明显\n",
    "    bagging_temperature=0.9,\n",
    "    leaf_estimation_method=\"Newton\",\n",
    ")\n",
    "\n",
    " \n",
    "n_folds =10 #十折交叉校验\n",
    "answers = []\n",
    "mean_score = 0\n",
    "data_x=train.drop(['isDefault'],axis=1)\n",
    "data_y=train[['isDefault']].copy()\n",
    "sk = StratifiedKFold(n_splits=n_folds, shuffle=True, random_state=2021)\n",
    "all_test = test.copy()\n",
    "for train, test in sk.split(data_x, data_y):  \n",
    "    x_train = data_x.iloc[train]\n",
    "    y_train = data_y.iloc[train]\n",
    "    x_test = data_x.iloc[test]\n",
    "    y_test = data_y.iloc[test]\n",
    "    clf = model.fit(x_train,y_train, eval_set=(x_test,y_test),verbose=500) # 500条打印一条日志\n",
    "    \n",
    "    yy_pred_valid=clf.predict(x_test,prediction_type='Probability')[:,-1]\n",
    "    print('cat验证的auc:{}'.format(roc_auc_score(y_test, yy_pred_valid)))\n",
    "    mean_score += roc_auc_score(y_test, yy_pred_valid) / n_folds\n",
    "    \n",
    "    y_pred_valid = clf.predict(all_test,prediction_type='Probability')[:,-1]\n",
    "    answers.append(y_pred_valid) \n",
    "print('mean valAuc:{}'.format(mean_score))\n",
    "cat_pre=sum(answers)/n_folds\n",
    "result['isDefault']=cat_pre\n",
    "result.to_csv('./baselinev2.csv',index=False)"
   ]
  },
  {
   "cell_type": "code",
   "execution_count": 20,
   "id": "c6cdc6af",
   "metadata": {
    "ExecuteTime": {
     "end_time": "2022-11-04T13:22:44.150059Z",
     "start_time": "2022-11-04T13:21:39.880214Z"
    }
   },
   "outputs": [
    {
     "name": "stdout",
     "output_type": "stream",
     "text": [
      "删除全部唯一值为1字段完成\n",
      "数值类型缺失值,中位数填充完成\n",
      "类别类型缺失值,众数填充完成\n",
      "issueDate_year字段 已经创建\n",
      "issueDate_month字段 已经创建\n",
      "earliesCreditLine_year字段 已经创建\n",
      "earliesCreditLine_month字段 已经创建\n",
      "issueDate_diff 时间差字段 已经创建\n",
      "earliesCreditLine_diff 时间差字段 已经创建\n"
     ]
    }
   ],
   "source": [
    "import pandas as pd\n",
    "import warnings\n",
    "warnings.filterwarnings('ignore')\n",
    "from sklearn.model_selection import StratifiedKFold\n",
    "from sklearn.metrics import roc_auc_score\n",
    "from catboost import CatBoostClassifier\n",
    " \n",
    "#数据加载\n",
    "train=pd.read_csv(\"./train.csv\")\n",
    "test=pd.read_csv(\"./testA.csv\")\n",
    "\n",
    "features = train.columns.tolist()\n",
    "for feature in features:\n",
    "    if train[feature].nunique() ==1:\n",
    "        train.drop([feature],axis=1,inplace=True)\n",
    "        test.drop([feature],axis=1,inplace=True)\n",
    "print('删除全部唯一值为1字段完成')\n",
    "\n",
    "#将数值类型的缺失值全部以中位数补全\n",
    "numerical_fea = list(train.select_dtypes(include=['float']).columns)\n",
    "train[numerical_fea] = train[numerical_fea].fillna(train[numerical_fea].median())\n",
    "test[numerical_fea] = test[numerical_fea].fillna(test[numerical_fea].median())\n",
    "print('数值类型缺失值,中位数填充完成')\n",
    "\n",
    "#将类别类型的缺失值全部以众数补全\n",
    "from scipy import stats \n",
    "cat_fea = list(train.select_dtypes(exclude=['float']).columns)\n",
    "for cf in cat_fea:\n",
    "    if train[cf].isnull().sum():\n",
    "        train[cf] = train[cf].fillna(stats.mode(train[cf])[0][0])\n",
    "cat_fea = list(test.select_dtypes(exclude=['float']).columns)\n",
    "for cf in cat_fea:\n",
    "    if test[cf].isnull().sum():\n",
    "        test[cf] = test[cf].fillna(stats.mode(test[cf])[0][0])\n",
    "print('类别类型缺失值,众数填充完成')\n",
    "\n",
    "\n",
    "\n",
    "import datetime\n",
    "def create_days_diff(selected_cols):\n",
    "    for selected in selected_cols:\n",
    "        train[selected] = pd.to_datetime(train[selected])\n",
    "        tmp_str = str(train[selected].min().year)+'-'+str(\"%02d\" % train[selected].min().month)+'-'+str(\"%02d\" % train[selected].min().day)\n",
    "        startdate = datetime.datetime.strptime(tmp_str, '%Y-%m-%d')\n",
    "        train[selected+'_diff'] = train[selected].apply(lambda x: x-startdate).dt.days\n",
    "        \n",
    "        test[selected] = pd.to_datetime(test[selected])\n",
    "        tmp_str = str(test[selected].min().year)+'-'+str(\"%02d\" % test[selected].min().month)+'-'+str(\"%02d\" % test[selected].min().day)\n",
    "        startdate = datetime.datetime.strptime(tmp_str, '%Y-%m-%d')\n",
    "        test[selected+'_diff'] = test[selected].apply(lambda x: x-startdate).dt.days        \n",
    "        print(selected+'_diff'+' 时间差字段 已经创建')\n",
    "def create_ym_features(selected_cols):\n",
    "    for selected in selected_cols:\n",
    "        test[selected] = pd.to_datetime(test[selected])\n",
    "        train_temp = pd.DatetimeIndex(train[selected])\n",
    "        test_temp = pd.DatetimeIndex(test[selected])\n",
    "        \n",
    "        train[selected+'_year'] = train_temp.year\n",
    "        test[selected+'_year'] = test_temp.year\n",
    "        print(selected+'_year'+'字段 已经创建')\n",
    "        \n",
    "        train[selected+'_month'] = train_temp.month\n",
    "        test[selected+'_month'] = test_temp.month\n",
    "        print(selected+'_month'+'字段 已经创建')\n",
    "        \n",
    "selected_cols = ['issueDate','earliesCreditLine']\n",
    "create_ym_features(selected_cols)\n",
    "create_days_diff(selected_cols)\n",
    "\n",
    "for data in [train]:\n",
    "    #贷款等级\n",
    "    data['grade'] = data['grade'].map({'A':1,'B':2,'C':3,'D':4,'E':5,'F':6,'G':7})\n",
    "    #就业年限（年）\n",
    "    data['employmentLength'] = data['employmentLength'].map({'1 year':1,'2 years':2,'3 years':3,'4 years':4,'5 years':5,'6 years':6,'7 years':7,'8 years':8,'9 years':9,'10+ years':10,'< 1 year':0})\n",
    "    #贷款等级之子级\n",
    "    data['subGrade'] = data['subGrade'].map({'E2':1,'D2':2,'D3':3,'A4':4,'C2':5,'A5':6,'C3':7,'B4':8,'B5':9,'E5':10,\n",
    "        'D4':11,'B3':12,'B2':13,'D1':14,'E1':15,'C5':16,'C1':17,'A2':18,'A3':19,'B1':20,\n",
    "        'E3':21,'F1':22,'C4':23,'A1':24,'D5':25,'F2':26,'E4':27,'F3':28,'G2':29,'F5':30,\n",
    "        'G3':31,'G1':32,'F4':33,'G4':34,'G5':35})    \n",
    "    #借款人信用档案中当前的信用额度总数 除以 贷款金额\n",
    "    data['rato']=data['totalAcc']/data['loanAmnt']\n",
    "for data in [test]:\n",
    "    #贷款等级\n",
    "    data['grade'] = data['grade'].map({'A':1,'B':2,'C':3,'D':4,'E':5,'F':6,'G':7})\n",
    "    #就业年限（年）\n",
    "    data['employmentLength'] = data['employmentLength'].map({'1 year':1,'2 years':2,'3 years':3,'4 years':4,'5 years':5,'6 years':6,'7 years':7,'8 years':8,'9 years':9,'10+ years':10,'< 1 year':0})\n",
    "    #贷款等级之子级\n",
    "    data['subGrade'] = data['subGrade'].map({'E2':1,'D2':2,'D3':3,'A4':4,'C2':5,'A5':6,'C3':7,'B4':8,'B5':9,'E5':10,\n",
    "        'D4':11,'B3':12,'B2':13,'D1':14,'E1':15,'C5':16,'C1':17,'A2':18,'A3':19,'B1':20,\n",
    "        'E3':21,'F1':22,'C4':23,'A1':24,'D5':25,'F2':26,'E4':27,'F3':28,'G2':29,'F5':30,\n",
    "        'G3':31,'G1':32,'F4':33,'G4':34,'G5':35})    \n",
    "    #借款人信用档案中当前的信用额度总数 除以 贷款金额\n",
    "    data['rato']=data['totalAcc']/data['loanAmnt']\n",
    "\n",
    "    \n",
    "cat_fea = ['term','grade','subGrade','employmentLength','homeOwnership','verificationStatus','purpose','regionCode','initialListStatus','applicationType']\n",
    "df = pd.concat([train,test],axis = 0)\n",
    "for col in cat_fea:\n",
    "    temp = train.groupby(col,as_index=False)[col].agg({col+'_count': 'count'})\n",
    "    df = pd.merge(df,temp,on = col,how = 'left')\n",
    "    temp = train.groupby(col,as_index=False)['isDefault'].agg({col+'_isDefault_mean': 'mean'})\n",
    "    df = pd.merge(df,temp,on = col,how = 'left')\n",
    "train = df[df['isDefault'].notnull()]\n",
    "test = df[df['isDefault'].isnull()]\n",
    "\n",
    "result = test[['id']].copy()\n",
    "features = ['issueDate', 'earliesCreditLine','id'] #自定义删除字段\n",
    "for feature in features:\n",
    "        train.drop([feature],axis=1,inplace=True)\n",
    "        test.drop([feature],axis=1,inplace=True)\n",
    "print('批量删除字段已完成')\n",
    "\n",
    "\n",
    "\n",
    "#CatBoost模型\n",
    "model=model = CatBoostClassifier(\n",
    "    loss_function=\"Logloss\",    # 分类任务常用损失函数\n",
    "    eval_metric=\"Accuracy\",     # 表示用于过度拟合检测和最佳模型选择的度量标准；\n",
    "    learning_rate=0.08,         # 表示学习率\n",
    "    iterations=10000,\n",
    "    random_seed=42,           # 设置随机种子进行固定\n",
    "    od_type=\"Iter\",\n",
    "    metric_period=20,           # 与交叉验证folds数匹配\n",
    "    max_depth = 8,              # 表示树模型最大深度\n",
    "    early_stopping_rounds=500,  # 早停步数\n",
    "    use_best_model=True,\n",
    "    # task_type=\"GPU\",          # 数据量较小，GPU加速效果不明显\n",
    "    bagging_temperature=0.9,\n",
    "    leaf_estimation_method=\"Newton\",\n",
    ")\n",
    "\n",
    " \n",
    "n_folds =10 #十折交叉校验\n",
    "answers = []\n",
    "mean_score = 0\n",
    "data_x=train.drop(['isDefault'],axis=1)\n",
    "data_y=train[['isDefault']].copy()\n",
    "sk = StratifiedKFold(n_splits=n_folds, shuffle=True, random_state=2021)\n",
    "all_test = test.copy()\n",
    "for train, test in sk.split(data_x, data_y):  \n",
    "    x_train = data_x.iloc[train]\n",
    "    y_train = data_y.iloc[train]\n",
    "    x_test = data_x.iloc[test]\n",
    "    y_test = data_y.iloc[test]\n",
    "    clf = model.fit(x_train,y_train, eval_set=(x_test,y_test),verbose=500) # 500条打印一条日志\n",
    "    \n",
    "    yy_pred_valid=clf.predict(x_test,prediction_type='Probability')[:,-1]\n",
    "    print('cat验证的auc:{}'.format(roc_auc_score(y_test, yy_pred_valid)))\n",
    "    mean_score += roc_auc_score(y_test, yy_pred_valid) / n_folds\n",
    "    \n",
    "    y_pred_valid = clf.predict(all_test,prediction_type='Probability')[:,-1]\n",
    "    answers.append(y_pred_valid) \n",
    "print('mean valAuc:{}'.format(mean_score))\n",
    "cat_pre=sum(answers)/n_folds\n",
    "result['isDefault']=cat_pre\n",
    "result.to_csv('./baselinev2.csv',index=False)"
   ]
  },
  {
   "cell_type": "code",
   "execution_count": 21,
   "id": "6b3bee56",
   "metadata": {
    "ExecuteTime": {
     "end_time": "2022-11-04T13:41:18.743052Z",
     "start_time": "2022-11-04T13:23:03.342720Z"
    }
   },
   "outputs": [
    {
     "name": "stdout",
     "output_type": "stream",
     "text": [
      "批量删除字段已完成\n"
     ]
    },
    {
     "name": "stderr",
     "output_type": "stream",
     "text": [
      "Warning: Overfitting detector is active, thus evaluation metric is calculated on every iteration. 'metric_period' is ignored for evaluation metric.\n"
     ]
    },
    {
     "name": "stdout",
     "output_type": "stream",
     "text": [
      "0:\tlearn: 0.8020014\ttest: 0.8022375\tbest: 0.8022375 (0)\ttotal: 284ms\tremaining: 47m 16s\n",
      "500:\tlearn: 0.8143500\ttest: 0.8072625\tbest: 0.8073250 (498)\ttotal: 56.5s\tremaining: 17m 51s\n",
      "1000:\tlearn: 0.8212375\ttest: 0.8073750\tbest: 0.8075250 (852)\ttotal: 1m 52s\tremaining: 16m 49s\n",
      "1500:\tlearn: 0.8274681\ttest: 0.8067125\tbest: 0.8078000 (1123)\ttotal: 2m 49s\tremaining: 16m 1s\n",
      "Stopped by overfitting detector  (500 iterations wait)\n",
      "\n",
      "bestTest = 0.8078\n",
      "bestIteration = 1123\n",
      "\n",
      "Shrink model to first 1124 iterations.\n",
      "cat验证的auc:0.736978016396736\n"
     ]
    },
    {
     "name": "stderr",
     "output_type": "stream",
     "text": [
      "Warning: Overfitting detector is active, thus evaluation metric is calculated on every iteration. 'metric_period' is ignored for evaluation metric.\n"
     ]
    },
    {
     "name": "stdout",
     "output_type": "stream",
     "text": [
      "0:\tlearn: 0.8020181\ttest: 0.8021000\tbest: 0.8021000 (0)\ttotal: 122ms\tremaining: 20m 17s\n",
      "500:\tlearn: 0.8140806\ttest: 0.8074500\tbest: 0.8077625 (398)\ttotal: 53.7s\tremaining: 16m 58s\n",
      "1000:\tlearn: 0.8214111\ttest: 0.8078375\tbest: 0.8081625 (942)\ttotal: 1m 49s\tremaining: 16m 26s\n",
      "1500:\tlearn: 0.8278472\ttest: 0.8071750\tbest: 0.8082750 (1149)\ttotal: 2m 43s\tremaining: 15m 24s\n",
      "Stopped by overfitting detector  (500 iterations wait)\n",
      "\n",
      "bestTest = 0.808275\n",
      "bestIteration = 1149\n",
      "\n",
      "Shrink model to first 1150 iterations.\n",
      "cat验证的auc:0.7407283262446427\n"
     ]
    },
    {
     "name": "stderr",
     "output_type": "stream",
     "text": [
      "Warning: Overfitting detector is active, thus evaluation metric is calculated on every iteration. 'metric_period' is ignored for evaluation metric.\n"
     ]
    },
    {
     "name": "stdout",
     "output_type": "stream",
     "text": [
      "0:\tlearn: 0.8020611\ttest: 0.8015750\tbest: 0.8015750 (0)\ttotal: 133ms\tremaining: 22m 11s\n",
      "500:\tlearn: 0.8145681\ttest: 0.8061500\tbest: 0.8065625 (347)\ttotal: 53.6s\tremaining: 16m 56s\n",
      "1000:\tlearn: 0.8215194\ttest: 0.8062875\tbest: 0.8066875 (794)\ttotal: 1m 50s\tremaining: 16m 37s\n",
      "Stopped by overfitting detector  (500 iterations wait)\n",
      "\n",
      "bestTest = 0.8066875\n",
      "bestIteration = 794\n",
      "\n",
      "Shrink model to first 795 iterations.\n",
      "cat验证的auc:0.7348597981091927\n"
     ]
    },
    {
     "name": "stderr",
     "output_type": "stream",
     "text": [
      "Warning: Overfitting detector is active, thus evaluation metric is calculated on every iteration. 'metric_period' is ignored for evaluation metric.\n"
     ]
    },
    {
     "name": "stdout",
     "output_type": "stream",
     "text": [
      "0:\tlearn: 0.8019528\ttest: 0.8026750\tbest: 0.8026750 (0)\ttotal: 146ms\tremaining: 24m 17s\n",
      "500:\tlearn: 0.8142542\ttest: 0.8067625\tbest: 0.8070500 (401)\ttotal: 58.4s\tremaining: 18m 28s\n",
      "1000:\tlearn: 0.8211653\ttest: 0.8077125\tbest: 0.8078750 (588)\ttotal: 1m 51s\tremaining: 16m 41s\n",
      "Stopped by overfitting detector  (500 iterations wait)\n",
      "\n",
      "bestTest = 0.807875\n",
      "bestIteration = 588\n",
      "\n",
      "Shrink model to first 589 iterations.\n",
      "cat验证的auc:0.737260288704447\n"
     ]
    },
    {
     "name": "stderr",
     "output_type": "stream",
     "text": [
      "Warning: Overfitting detector is active, thus evaluation metric is calculated on every iteration. 'metric_period' is ignored for evaluation metric.\n"
     ]
    },
    {
     "name": "stdout",
     "output_type": "stream",
     "text": [
      "0:\tlearn: 0.8020056\ttest: 0.8021250\tbest: 0.8021250 (0)\ttotal: 124ms\tremaining: 20m 35s\n",
      "500:\tlearn: 0.8145306\ttest: 0.8068500\tbest: 0.8068625 (497)\ttotal: 56.5s\tremaining: 17m 50s\n",
      "1000:\tlearn: 0.8213944\ttest: 0.8069625\tbest: 0.8072250 (911)\ttotal: 1m 52s\tremaining: 16m 48s\n",
      "1500:\tlearn: 0.8277556\ttest: 0.8070125\tbest: 0.8072500 (1393)\ttotal: 2m 50s\tremaining: 16m 3s\n",
      "Stopped by overfitting detector  (500 iterations wait)\n",
      "\n",
      "bestTest = 0.80725\n",
      "bestIteration = 1393\n",
      "\n",
      "Shrink model to first 1394 iterations.\n",
      "cat验证的auc:0.7392345081787084\n"
     ]
    },
    {
     "name": "stderr",
     "output_type": "stream",
     "text": [
      "Warning: Overfitting detector is active, thus evaluation metric is calculated on every iteration. 'metric_period' is ignored for evaluation metric.\n"
     ]
    },
    {
     "name": "stdout",
     "output_type": "stream",
     "text": [
      "0:\tlearn: 0.8020722\ttest: 0.8015750\tbest: 0.8015750 (0)\ttotal: 130ms\tremaining: 21m 42s\n",
      "500:\tlearn: 0.8140625\ttest: 0.8083375\tbest: 0.8084250 (498)\ttotal: 57.3s\tremaining: 18m 5s\n",
      "1000:\tlearn: 0.8210292\ttest: 0.8082875\tbest: 0.8088625 (542)\ttotal: 1m 53s\tremaining: 17m 4s\n",
      "Stopped by overfitting detector  (500 iterations wait)\n",
      "\n",
      "bestTest = 0.8088625\n",
      "bestIteration = 542\n",
      "\n",
      "Shrink model to first 543 iterations.\n",
      "cat验证的auc:0.7378409702660682\n"
     ]
    },
    {
     "name": "stderr",
     "output_type": "stream",
     "text": [
      "Warning: Overfitting detector is active, thus evaluation metric is calculated on every iteration. 'metric_period' is ignored for evaluation metric.\n"
     ]
    },
    {
     "name": "stdout",
     "output_type": "stream",
     "text": [
      "0:\tlearn: 0.8019764\ttest: 0.8024125\tbest: 0.8024125 (0)\ttotal: 127ms\tremaining: 21m 14s\n",
      "500:\tlearn: 0.8142833\ttest: 0.8078125\tbest: 0.8079250 (444)\ttotal: 56.6s\tremaining: 17m 53s\n",
      "1000:\tlearn: 0.8212958\ttest: 0.8070875\tbest: 0.8080250 (531)\ttotal: 1m 53s\tremaining: 16m 58s\n",
      "Stopped by overfitting detector  (500 iterations wait)\n",
      "\n",
      "bestTest = 0.808025\n",
      "bestIteration = 531\n",
      "\n",
      "Shrink model to first 532 iterations.\n",
      "cat验证的auc:0.7376187355381095\n"
     ]
    },
    {
     "name": "stderr",
     "output_type": "stream",
     "text": [
      "Warning: Overfitting detector is active, thus evaluation metric is calculated on every iteration. 'metric_period' is ignored for evaluation metric.\n"
     ]
    },
    {
     "name": "stdout",
     "output_type": "stream",
     "text": [
      "0:\tlearn: 0.8019625\ttest: 0.8014500\tbest: 0.8014500 (0)\ttotal: 129ms\tremaining: 21m 28s\n"
     ]
    },
    {
     "ename": "KeyboardInterrupt",
     "evalue": "",
     "output_type": "error",
     "traceback": [
      "\u001b[1;31m---------------------------------------------------------------------------\u001b[0m",
      "\u001b[1;31mKeyboardInterrupt\u001b[0m                         Traceback (most recent call last)",
      "\u001b[1;32m<ipython-input-21-e2b61e35edb6>\u001b[0m in \u001b[0;36m<module>\u001b[1;34m\u001b[0m\n\u001b[0;32m     41\u001b[0m     \u001b[0mx_test\u001b[0m \u001b[1;33m=\u001b[0m \u001b[0mdata_x\u001b[0m\u001b[1;33m.\u001b[0m\u001b[0miloc\u001b[0m\u001b[1;33m[\u001b[0m\u001b[0mtest\u001b[0m\u001b[1;33m]\u001b[0m\u001b[1;33m\u001b[0m\u001b[1;33m\u001b[0m\u001b[0m\n\u001b[0;32m     42\u001b[0m     \u001b[0my_test\u001b[0m \u001b[1;33m=\u001b[0m \u001b[0mdata_y\u001b[0m\u001b[1;33m.\u001b[0m\u001b[0miloc\u001b[0m\u001b[1;33m[\u001b[0m\u001b[0mtest\u001b[0m\u001b[1;33m]\u001b[0m\u001b[1;33m\u001b[0m\u001b[1;33m\u001b[0m\u001b[0m\n\u001b[1;32m---> 43\u001b[1;33m     \u001b[0mclf\u001b[0m \u001b[1;33m=\u001b[0m \u001b[0mmodel\u001b[0m\u001b[1;33m.\u001b[0m\u001b[0mfit\u001b[0m\u001b[1;33m(\u001b[0m\u001b[0mx_train\u001b[0m\u001b[1;33m,\u001b[0m\u001b[0my_train\u001b[0m\u001b[1;33m,\u001b[0m \u001b[0meval_set\u001b[0m\u001b[1;33m=\u001b[0m\u001b[1;33m(\u001b[0m\u001b[0mx_test\u001b[0m\u001b[1;33m,\u001b[0m\u001b[0my_test\u001b[0m\u001b[1;33m)\u001b[0m\u001b[1;33m,\u001b[0m\u001b[0mverbose\u001b[0m\u001b[1;33m=\u001b[0m\u001b[1;36m500\u001b[0m\u001b[1;33m)\u001b[0m \u001b[1;31m# 500条打印一条日志\u001b[0m\u001b[1;33m\u001b[0m\u001b[1;33m\u001b[0m\u001b[0m\n\u001b[0m\u001b[0;32m     44\u001b[0m \u001b[1;33m\u001b[0m\u001b[0m\n\u001b[0;32m     45\u001b[0m     \u001b[0myy_pred_valid\u001b[0m\u001b[1;33m=\u001b[0m\u001b[0mclf\u001b[0m\u001b[1;33m.\u001b[0m\u001b[0mpredict\u001b[0m\u001b[1;33m(\u001b[0m\u001b[0mx_test\u001b[0m\u001b[1;33m,\u001b[0m\u001b[0mprediction_type\u001b[0m\u001b[1;33m=\u001b[0m\u001b[1;34m'Probability'\u001b[0m\u001b[1;33m)\u001b[0m\u001b[1;33m[\u001b[0m\u001b[1;33m:\u001b[0m\u001b[1;33m,\u001b[0m\u001b[1;33m-\u001b[0m\u001b[1;36m1\u001b[0m\u001b[1;33m]\u001b[0m\u001b[1;33m\u001b[0m\u001b[1;33m\u001b[0m\u001b[0m\n",
      "\u001b[1;32mG:\\anaconda\\lib\\site-packages\\catboost\\core.py\u001b[0m in \u001b[0;36mfit\u001b[1;34m(self, X, y, cat_features, text_features, embedding_features, sample_weight, baseline, use_best_model, eval_set, verbose, logging_level, plot, plot_file, column_description, verbose_eval, metric_period, silent, early_stopping_rounds, save_snapshot, snapshot_file, snapshot_interval, init_model, callbacks, log_cout, log_cerr)\u001b[0m\n\u001b[0;32m   5126\u001b[0m             \u001b[0mCatBoostClassifier\u001b[0m\u001b[1;33m.\u001b[0m\u001b[0m_check_is_compatible_loss\u001b[0m\u001b[1;33m(\u001b[0m\u001b[0mparams\u001b[0m\u001b[1;33m[\u001b[0m\u001b[1;34m'loss_function'\u001b[0m\u001b[1;33m]\u001b[0m\u001b[1;33m)\u001b[0m\u001b[1;33m\u001b[0m\u001b[1;33m\u001b[0m\u001b[0m\n\u001b[0;32m   5127\u001b[0m \u001b[1;33m\u001b[0m\u001b[0m\n\u001b[1;32m-> 5128\u001b[1;33m         self._fit(X, y, cat_features, text_features, embedding_features, None, sample_weight, None, None, None, None, baseline, use_best_model,\n\u001b[0m\u001b[0;32m   5129\u001b[0m                   \u001b[0meval_set\u001b[0m\u001b[1;33m,\u001b[0m \u001b[0mverbose\u001b[0m\u001b[1;33m,\u001b[0m \u001b[0mlogging_level\u001b[0m\u001b[1;33m,\u001b[0m \u001b[0mplot\u001b[0m\u001b[1;33m,\u001b[0m \u001b[0mplot_file\u001b[0m\u001b[1;33m,\u001b[0m \u001b[0mcolumn_description\u001b[0m\u001b[1;33m,\u001b[0m \u001b[0mverbose_eval\u001b[0m\u001b[1;33m,\u001b[0m \u001b[0mmetric_period\u001b[0m\u001b[1;33m,\u001b[0m\u001b[1;33m\u001b[0m\u001b[1;33m\u001b[0m\u001b[0m\n\u001b[0;32m   5130\u001b[0m                   silent, early_stopping_rounds, save_snapshot, snapshot_file, snapshot_interval, init_model, callbacks, log_cout, log_cerr)\n",
      "\u001b[1;32mG:\\anaconda\\lib\\site-packages\\catboost\\core.py\u001b[0m in \u001b[0;36m_fit\u001b[1;34m(self, X, y, cat_features, text_features, embedding_features, pairs, sample_weight, group_id, group_weight, subgroup_id, pairs_weight, baseline, use_best_model, eval_set, verbose, logging_level, plot, plot_file, column_description, verbose_eval, metric_period, silent, early_stopping_rounds, save_snapshot, snapshot_file, snapshot_interval, init_model, callbacks, log_cout, log_cerr)\u001b[0m\n\u001b[0;32m   2353\u001b[0m         \u001b[1;32mwith\u001b[0m \u001b[0mlog_fixup\u001b[0m\u001b[1;33m(\u001b[0m\u001b[0mlog_cout\u001b[0m\u001b[1;33m,\u001b[0m \u001b[0mlog_cerr\u001b[0m\u001b[1;33m)\u001b[0m\u001b[1;33m,\u001b[0m\u001b[0;31m \u001b[0m\u001b[0;31m\\\u001b[0m\u001b[1;33m\u001b[0m\u001b[1;33m\u001b[0m\u001b[0m\n\u001b[0;32m   2354\u001b[0m             \u001b[0mplot_wrapper\u001b[0m\u001b[1;33m(\u001b[0m\u001b[0mplot\u001b[0m\u001b[1;33m,\u001b[0m \u001b[0mplot_file\u001b[0m\u001b[1;33m,\u001b[0m \u001b[1;34m'Training plots'\u001b[0m\u001b[1;33m,\u001b[0m \u001b[1;33m[\u001b[0m\u001b[0m_get_train_dir\u001b[0m\u001b[1;33m(\u001b[0m\u001b[0mself\u001b[0m\u001b[1;33m.\u001b[0m\u001b[0mget_params\u001b[0m\u001b[1;33m(\u001b[0m\u001b[1;33m)\u001b[0m\u001b[1;33m)\u001b[0m\u001b[1;33m]\u001b[0m\u001b[1;33m)\u001b[0m\u001b[1;33m:\u001b[0m\u001b[1;33m\u001b[0m\u001b[1;33m\u001b[0m\u001b[0m\n\u001b[1;32m-> 2355\u001b[1;33m             self._train(\n\u001b[0m\u001b[0;32m   2356\u001b[0m                 \u001b[0mtrain_pool\u001b[0m\u001b[1;33m,\u001b[0m\u001b[1;33m\u001b[0m\u001b[1;33m\u001b[0m\u001b[0m\n\u001b[0;32m   2357\u001b[0m                 \u001b[0mtrain_params\u001b[0m\u001b[1;33m[\u001b[0m\u001b[1;34m\"eval_sets\"\u001b[0m\u001b[1;33m]\u001b[0m\u001b[1;33m,\u001b[0m\u001b[1;33m\u001b[0m\u001b[1;33m\u001b[0m\u001b[0m\n",
      "\u001b[1;32mG:\\anaconda\\lib\\site-packages\\catboost\\core.py\u001b[0m in \u001b[0;36m_train\u001b[1;34m(self, train_pool, test_pool, params, allow_clear_pool, init_model)\u001b[0m\n\u001b[0;32m   1757\u001b[0m \u001b[1;33m\u001b[0m\u001b[0m\n\u001b[0;32m   1758\u001b[0m     \u001b[1;32mdef\u001b[0m \u001b[0m_train\u001b[0m\u001b[1;33m(\u001b[0m\u001b[0mself\u001b[0m\u001b[1;33m,\u001b[0m \u001b[0mtrain_pool\u001b[0m\u001b[1;33m,\u001b[0m \u001b[0mtest_pool\u001b[0m\u001b[1;33m,\u001b[0m \u001b[0mparams\u001b[0m\u001b[1;33m,\u001b[0m \u001b[0mallow_clear_pool\u001b[0m\u001b[1;33m,\u001b[0m \u001b[0minit_model\u001b[0m\u001b[1;33m)\u001b[0m\u001b[1;33m:\u001b[0m\u001b[1;33m\u001b[0m\u001b[1;33m\u001b[0m\u001b[0m\n\u001b[1;32m-> 1759\u001b[1;33m         \u001b[0mself\u001b[0m\u001b[1;33m.\u001b[0m\u001b[0m_object\u001b[0m\u001b[1;33m.\u001b[0m\u001b[0m_train\u001b[0m\u001b[1;33m(\u001b[0m\u001b[0mtrain_pool\u001b[0m\u001b[1;33m,\u001b[0m \u001b[0mtest_pool\u001b[0m\u001b[1;33m,\u001b[0m \u001b[0mparams\u001b[0m\u001b[1;33m,\u001b[0m \u001b[0mallow_clear_pool\u001b[0m\u001b[1;33m,\u001b[0m \u001b[0minit_model\u001b[0m\u001b[1;33m.\u001b[0m\u001b[0m_object\u001b[0m \u001b[1;32mif\u001b[0m \u001b[0minit_model\u001b[0m \u001b[1;32melse\u001b[0m \u001b[1;32mNone\u001b[0m\u001b[1;33m)\u001b[0m\u001b[1;33m\u001b[0m\u001b[1;33m\u001b[0m\u001b[0m\n\u001b[0m\u001b[0;32m   1760\u001b[0m         \u001b[0mself\u001b[0m\u001b[1;33m.\u001b[0m\u001b[0m_set_trained_model_attributes\u001b[0m\u001b[1;33m(\u001b[0m\u001b[1;33m)\u001b[0m\u001b[1;33m\u001b[0m\u001b[1;33m\u001b[0m\u001b[0m\n\u001b[0;32m   1761\u001b[0m \u001b[1;33m\u001b[0m\u001b[0m\n",
      "\u001b[1;32m_catboost.pyx\u001b[0m in \u001b[0;36m_catboost._CatBoost._train\u001b[1;34m()\u001b[0m\n",
      "\u001b[1;32m_catboost.pyx\u001b[0m in \u001b[0;36m_catboost._CatBoost._train\u001b[1;34m()\u001b[0m\n",
      "\u001b[1;31mKeyboardInterrupt\u001b[0m: "
     ]
    }
   ],
   "source": []
  },
  {
   "cell_type": "code",
   "execution_count": null,
   "id": "ddea0eea",
   "metadata": {},
   "outputs": [],
   "source": []
  },
  {
   "cell_type": "code",
   "execution_count": null,
   "id": "fcf86987",
   "metadata": {},
   "outputs": [],
   "source": []
  },
  {
   "cell_type": "code",
   "execution_count": null,
   "id": "17c9a9f3",
   "metadata": {},
   "outputs": [],
   "source": []
  },
  {
   "cell_type": "code",
   "execution_count": null,
   "id": "6d5f56b7",
   "metadata": {},
   "outputs": [],
   "source": []
  },
  {
   "cell_type": "code",
   "execution_count": null,
   "id": "19384885",
   "metadata": {},
   "outputs": [],
   "source": []
  },
  {
   "cell_type": "code",
   "execution_count": null,
   "id": "1196cba1",
   "metadata": {},
   "outputs": [],
   "source": []
  },
  {
   "cell_type": "code",
   "execution_count": null,
   "id": "2373a589",
   "metadata": {},
   "outputs": [],
   "source": []
  },
  {
   "cell_type": "code",
   "execution_count": null,
   "id": "b1f9ae23",
   "metadata": {},
   "outputs": [],
   "source": []
  }
 ],
 "metadata": {
  "kernelspec": {
   "display_name": "Python 3",
   "language": "python",
   "name": "python3"
  },
  "language_info": {
   "codemirror_mode": {
    "name": "ipython",
    "version": 3
   },
   "file_extension": ".py",
   "mimetype": "text/x-python",
   "name": "python",
   "nbconvert_exporter": "python",
   "pygments_lexer": "ipython3",
   "version": "3.8.8"
  }
 },
 "nbformat": 4,
 "nbformat_minor": 5
}
